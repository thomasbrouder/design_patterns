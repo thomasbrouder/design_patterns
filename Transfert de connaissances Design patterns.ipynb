{
 "cells": [
  {
   "cell_type": "markdown",
   "metadata": {
    "pycharm": {
     "name": "#%%\n"
    }
   },
   "source": [
    "# Design patterns"
   ]
  },
  {
   "cell_type": "markdown",
   "metadata": {},
   "source": [
    "## I - Introduction to design patterns"
   ]
  },
  {
   "cell_type": "markdown",
   "metadata": {},
   "source": [
    "Source https://refactoring.guru/design-patterns/catalog"
   ]
  },
  {
   "cell_type": "markdown",
   "metadata": {},
   "source": [
    "### 1. Questions\n",
    "* What is a design pattern ? / What are design patterns made for ?\n",
    "\n",
    "* When can we use design patterns ?\n",
    "* Do you already use design patterns ?\n",
    "* Can you think of other places where you could use them ?\n",
    "* Why would you like to use them here ?"
   ]
  },
  {
   "cell_type": "markdown",
   "metadata": {},
   "source": [
    "### 2. Types of design patterns"
   ]
  },
  {
   "cell_type": "markdown",
   "metadata": {},
   "source": [
    "__1. Creational patterns__\n",
    "* Creation mechanisms \n",
    "\n",
    "\n",
    "__2. Structural patterns__\n",
    "* Assemble objects and classes into larger structures\n",
    "\n",
    "\n",
    "__3. Behavioral patterns__\n",
    "* Algorithms and the assignment of responsibilities between objects."
   ]
  },
  {
   "cell_type": "markdown",
   "metadata": {},
   "source": [
    "## II- The Adapter"
   ]
  },
  {
   "cell_type": "markdown",
   "metadata": {},
   "source": [
    "### 0. Introduction"
   ]
  },
  {
   "cell_type": "markdown",
   "metadata": {},
   "source": [
    "__What?__  Special object that converts the interface of one object so that another object can understand it.\n",
    "\n",
    "__Why?__ Allows objects with incompatible interfaces to collaborate.\n",
    "\n",
    "__When?__ When you need to convert data into various formats. When you need objects with different interfaces to collaborate.\n",
    "\n",
    "__How?__ Composition/inheritance\n",
    "\n",
    "__Pros:__\n",
    "- Single Responsibility Principle. You can separate the interface or data conversion code from the primary business logic of the program.\n",
    "- Open/Closed Principle. You can introduce new types of adapters into the program without breaking the existing client code, as long as they work with the adapters through the client interface.\n",
    "\n",
    "__Cons:__\n",
    "- The overall complexity of the code increases because you need to introduce a set of new interfaces and classes. Sometimes it’s simpler just to change the service class so that it matches the rest of your code."
   ]
  },
  {
   "cell_type": "markdown",
   "metadata": {},
   "source": [
    "Where could you use this pattern ? Do you have concrete examples in the codebase ?"
   ]
  },
  {
   "cell_type": "markdown",
   "metadata": {
    "pycharm": {
     "name": "#%% md\n"
    }
   },
   "source": [
    "### 1. Everyday life examples"
   ]
  },
  {
   "cell_type": "code",
   "execution_count": 6,
   "metadata": {},
   "outputs": [
    {
     "data": {
      "text/html": [
       "<img src=\"img/car_to_rail_adapter.png\" width=\"500\" height=\"500\"/>"
      ],
      "text/plain": [
       "<IPython.core.display.Image object>"
      ]
     },
     "execution_count": 6,
     "metadata": {},
     "output_type": "execute_result"
    }
   ],
   "source": [
    "from solutions import solution\n",
    "from IPython.display import Image\n",
    "from IPython.core.display import HTML\n",
    "Image(url= \"img/car_to_rail_adapter.png\", width=500, height=500)"
   ]
  },
  {
   "cell_type": "markdown",
   "metadata": {},
   "source": [
    "The above example has its limits, if you want to use the adapter for a 4*4 vehicule it will not work because. The adapter should consider each wheel independently."
   ]
  },
  {
   "cell_type": "code",
   "execution_count": 7,
   "metadata": {
    "scrolled": true
   },
   "outputs": [
    {
     "data": {
      "text/html": [
       "<img src=\"img/plug_adapter.png\" width=\"300\" height=\"300\"/>"
      ],
      "text/plain": [
       "<IPython.core.display.Image object>"
      ]
     },
     "execution_count": 7,
     "metadata": {},
     "output_type": "execute_result"
    }
   ],
   "source": [
    "Image(url= \"img/plug_adapter.png\", width=300, height=300)"
   ]
  },
  {
   "cell_type": "markdown",
   "metadata": {},
   "source": [
    "When you want to plug your phone in a foreign country, you may need an adapter. The adapter makes your plug looks as if it was adapted to socket."
   ]
  },
  {
   "cell_type": "markdown",
   "metadata": {},
   "source": [
    "### 2. Structure"
   ]
  },
  {
   "cell_type": "code",
   "execution_count": 8,
   "metadata": {
    "scrolled": true
   },
   "outputs": [
    {
     "data": {
      "text/html": [
       "<img src=\"img/Adapter_structure.png\" width=\"900\" height=\"900\"/>"
      ],
      "text/plain": [
       "<IPython.core.display.Image object>"
      ]
     },
     "execution_count": 8,
     "metadata": {},
     "output_type": "execute_result"
    }
   ],
   "source": [
    "Image(url= \"img/Adapter_structure.png\", width=900, height=900)"
   ]
  },
  {
   "cell_type": "markdown",
   "metadata": {},
   "source": [
    "Warning: The adapter extends the client interface !"
   ]
  },
  {
   "cell_type": "markdown",
   "metadata": {},
   "source": [
    "### 3. First example"
   ]
  },
  {
   "cell_type": "markdown",
   "metadata": {},
   "source": [
    "#### a) Context"
   ]
  },
  {
   "cell_type": "markdown",
   "metadata": {},
   "source": [
    "You have a Ibusiness code materialized by client_code(). This code uses a third party library Service and works fine with it. For some reason, you now want to use another library NewService. It turns out that this new service is not compatible with client_code. You have a lot of knowledge on design patterns and you've been eager to turn your knowledge into action. You've been waiting for this moment and decide to implement an adapter !\n",
    "\n",
    "__Questions__\n",
    "* Can you justify why you choose to use an Adapter ?\n",
    "* Could you use another approach to solve this problem ?"
   ]
  },
  {
   "cell_type": "code",
   "execution_count": 9,
   "metadata": {
    "pycharm": {
     "name": "#%%\n"
    }
   },
   "outputs": [
    {
     "name": "stdout",
     "output_type": "stream",
     "text": [
      "Service works fine with client code\n"
     ]
    }
   ],
   "source": [
    "class Service():\n",
    "    \"\"\"\n",
    "    Service class is compatible with client code\n",
    "    \"\"\"\n",
    "    def name(self):\n",
    "        return \"usual service\"\n",
    "    \n",
    "    def request(self):\n",
    "        return \"Service works fine with client code\"\n",
    "\n",
    "class Client():\n",
    "    def method(self, service):\n",
    "        print(service.request())    \n",
    "\n",
    "usual_service = Service()\n",
    "client = Client()\n",
    "client.method(usual_service)"
   ]
  },
  {
   "cell_type": "code",
   "execution_count": 10,
   "metadata": {
    "pycharm": {
     "name": "#%%\n"
    }
   },
   "outputs": [
    {
     "ename": "AttributeError",
     "evalue": "'NewService' object has no attribute 'request'",
     "output_type": "error",
     "traceback": [
      "\u001b[1;31m---------------------------------------------------------------------------\u001b[0m",
      "\u001b[1;31mAttributeError\u001b[0m                            Traceback (most recent call last)",
      "\u001b[1;32m<ipython-input-10-1d8468748f77>\u001b[0m in \u001b[0;36m<module>\u001b[1;34m\u001b[0m\n\u001b[0;32m     12\u001b[0m \u001b[0mnew_service\u001b[0m \u001b[1;33m=\u001b[0m \u001b[0mNewService\u001b[0m\u001b[1;33m(\u001b[0m\u001b[1;33m)\u001b[0m\u001b[1;33m\u001b[0m\u001b[1;33m\u001b[0m\u001b[0m\n\u001b[0;32m     13\u001b[0m \u001b[0mclient\u001b[0m \u001b[1;33m=\u001b[0m \u001b[0mClient\u001b[0m\u001b[1;33m(\u001b[0m\u001b[1;33m)\u001b[0m\u001b[1;33m\u001b[0m\u001b[1;33m\u001b[0m\u001b[0m\n\u001b[1;32m---> 14\u001b[1;33m \u001b[0mclient\u001b[0m\u001b[1;33m.\u001b[0m\u001b[0mmethod\u001b[0m\u001b[1;33m(\u001b[0m\u001b[0mnew_service\u001b[0m\u001b[1;33m)\u001b[0m\u001b[1;33m\u001b[0m\u001b[1;33m\u001b[0m\u001b[0m\n\u001b[0m",
      "\u001b[1;32m<ipython-input-9-590febedc150>\u001b[0m in \u001b[0;36mmethod\u001b[1;34m(self, service)\u001b[0m\n\u001b[0;32m     11\u001b[0m \u001b[1;32mclass\u001b[0m \u001b[0mClient\u001b[0m\u001b[1;33m(\u001b[0m\u001b[1;33m)\u001b[0m\u001b[1;33m:\u001b[0m\u001b[1;33m\u001b[0m\u001b[1;33m\u001b[0m\u001b[0m\n\u001b[0;32m     12\u001b[0m     \u001b[1;32mdef\u001b[0m \u001b[0mmethod\u001b[0m\u001b[1;33m(\u001b[0m\u001b[0mself\u001b[0m\u001b[1;33m,\u001b[0m \u001b[0mservice\u001b[0m\u001b[1;33m)\u001b[0m\u001b[1;33m:\u001b[0m\u001b[1;33m\u001b[0m\u001b[1;33m\u001b[0m\u001b[0m\n\u001b[1;32m---> 13\u001b[1;33m         \u001b[0mprint\u001b[0m\u001b[1;33m(\u001b[0m\u001b[0mservice\u001b[0m\u001b[1;33m.\u001b[0m\u001b[0mrequest\u001b[0m\u001b[1;33m(\u001b[0m\u001b[1;33m)\u001b[0m\u001b[1;33m)\u001b[0m\u001b[1;33m\u001b[0m\u001b[1;33m\u001b[0m\u001b[0m\n\u001b[0m\u001b[0;32m     14\u001b[0m \u001b[1;33m\u001b[0m\u001b[0m\n\u001b[0;32m     15\u001b[0m \u001b[0musual_service\u001b[0m \u001b[1;33m=\u001b[0m \u001b[0mService\u001b[0m\u001b[1;33m(\u001b[0m\u001b[1;33m)\u001b[0m\u001b[1;33m\u001b[0m\u001b[1;33m\u001b[0m\u001b[0m\n",
      "\u001b[1;31mAttributeError\u001b[0m: 'NewService' object has no attribute 'request'"
     ]
    }
   ],
   "source": [
    "class NewService():\n",
    "    \"\"\"\n",
    "    We would like NewService instance to be compatible with client code.\n",
    "    But its behavior is not compatible.\n",
    "    \"\"\"\n",
    "    def name(self):\n",
    "        return \"new service\"\n",
    "    \n",
    "    def specific_request(self):\n",
    "        return \"!oot edoc tneilc htiw enif skrow ecivres wen eht woN\"\n",
    "\n",
    "new_service = NewService()\n",
    "client = Client()\n",
    "client.method(new_service)"
   ]
  },
  {
   "cell_type": "markdown",
   "metadata": {},
   "source": [
    "#### b) Practice"
   ]
  },
  {
   "cell_type": "code",
   "execution_count": 11,
   "metadata": {
    "pycharm": {
     "name": "#%%\n"
    }
   },
   "outputs": [],
   "source": [
    "# client code is redefined here so that it now checks Service's type\n",
    "def client_code(service: \"Service\") -> None:\n",
    "    print(service.request())\n",
    "\n",
    "    if isinstance(service, Service):\n",
    "        print(f\"{service.name()} is of type Service\")\n",
    "    else:\n",
    "        print(f\"But wait, {service.name()} makes as if it were of type Service, but it's not! It's of type {type(service)}\")\n",
    "    print(\"\\n\")"
   ]
  },
  {
   "cell_type": "code",
   "execution_count": 12,
   "metadata": {},
   "outputs": [
    {
     "name": "stdout",
     "output_type": "stream",
     "text": [
      "\u001b[1mTask: \u001b[0m Create an Adapter class which allows NewService instance to be compatible with client code.When you're finished, client_code(new_service) return should be readable and understandable by a human being.\n"
     ]
    }
   ],
   "source": [
    "print(solution.exercise_1.task())"
   ]
  },
  {
   "cell_type": "code",
   "execution_count": 13,
   "metadata": {},
   "outputs": [
    {
     "name": "stdout",
     "output_type": "stream",
     "text": [
      "Now the new service works fine with client code too!\n",
      "Now the new service works fine with client code too!\n"
     ]
    }
   ],
   "source": [
    "# Object adapter: the adapter implements the interface of one object and wraps the other one.\n",
    "class ObjectAdapter(Client):\n",
    "    def method(self, service):\n",
    "        print(service.specific_request()[::-1])    \n",
    "    \n",
    "new_service = NewService()\n",
    "object_adapter = ObjectAdapter()\n",
    "object_adapter.method(new_service)\n",
    "\n",
    "\n",
    "# Class adapter: the adapter inherits interfaces from both objects at the same time.\n",
    "class ClassAdapter(Client, NewService):\n",
    "    def method(self):\n",
    "        print(super().specific_request()[::-1])\n",
    "\n",
    "class_adapter = ClassAdapter()\n",
    "class_adapter.method()"
   ]
  },
  {
   "cell_type": "markdown",
   "metadata": {},
   "source": [
    "### 4. Second example"
   ]
  },
  {
   "cell_type": "markdown",
   "metadata": {},
   "source": [
    "#### a. Context"
   ]
  },
  {
   "cell_type": "markdown",
   "metadata": {},
   "source": [
    "You have a legacy code where polylines are today's tekyntools objects.\n",
    "You already know that your polyline data structure will evolve towards numpy arrays.\n",
    "You need to create a brand new module. You choose to use numpy instead of current polylines\n",
    "so that you're code would be as close as possible from your future polyline implementation."
   ]
  },
  {
   "cell_type": "code",
   "execution_count": null,
   "metadata": {},
   "outputs": [],
   "source": [
    "from tekyntools.geometryObjects import geometric_form, vertex, polyline\n",
    "import matplotlib.pyplot as plt\n",
    "\n",
    "class SectionSelector():\n",
    "    def __init__(self, limit, placement):\n",
    "        self.limit = limit\n",
    "        self.placement = placement\n",
    "\n",
    "    def filter(self):\n",
    "        return [poly for poly in self.placement if max(poly.y_coords) < self.limit]\n",
    "\n",
    "\n",
    "def plot_polylines(polylines, title):\n",
    "    for poly in polylines:\n",
    "        plt.plot(poly.x_coords, poly.y_coords)\n",
    "        plt.title(title)\n",
    "    plt.show()"
   ]
  },
  {
   "cell_type": "code",
   "execution_count": null,
   "metadata": {},
   "outputs": [],
   "source": [
    "placement = [\n",
    "    geometric_form.create_rectangle(height=20, width=200),\n",
    "    geometric_form.create_rectangle(origin=vertex.Vertex(0, 21), height=20, width=50),\n",
    "    geometric_form.create_rectangle(origin=vertex.Vertex(51, 21), height=50, width=10),\n",
    "    geometric_form.create_rectangle(origin=vertex.Vertex(62, 21), height=50, width=30),\n",
    "]\n",
    "\n",
    "plot_polylines(placement, title=\"Whole placement\")\n",
    "\n",
    "# Main code\n",
    "section_selector = SectionSelector(placement=placement, limit=50)\n",
    "section = section_selector.filter()\n",
    "\n",
    "plot_polylines(section, title=\"Section\")"
   ]
  },
  {
   "cell_type": "code",
   "execution_count": null,
   "metadata": {
    "scrolled": false
   },
   "outputs": [],
   "source": [
    "print(solution.exercise_3.task())"
   ]
  },
  {
   "cell_type": "code",
   "execution_count": null,
   "metadata": {},
   "outputs": [],
   "source": [
    "### Your code here"
   ]
  },
  {
   "cell_type": "markdown",
   "metadata": {},
   "source": [
    "## III- The Bridge"
   ]
  },
  {
   "cell_type": "markdown",
   "metadata": {},
   "source": [
    "### 0. Introduction"
   ]
  },
  {
   "cell_type": "markdown",
   "metadata": {},
   "source": [
    "__What?__ Split a monolithic class into several class hierarchies __or__ when you need to extend a class in several orthogonal (independent) dimensions. Divides business logic or huge class into separate class hierarchies that can be developed independently. Bridge can be recognized by a clear distinction between some controlling entity and several different platforms that it relies on.\n",
    "\n",
    "__Why?__ This approach simplifies code maintenance and minimizes the risk of breaking existing code. Enables to change the classes in each hierarchy independently of the classes in the others.\n",
    "\n",
    "__When?__ Bridge is usually designed up-front, letting you develop parts of an application independently of each other\n",
    "\n",
    "__How?__ Composition/inheritance\n",
    "\n",
    "__Pros:__\n",
    "- You can create platform-independent classes and apps.\n",
    "- The client code works with high-level abstractions. It isn’t exposed to the platform details.\n",
    "- Open/Closed Principle. You can introduce new abstractions and implementations independently from each other.\n",
    "- Single Responsibility Principle. You can focus on high-level logic in the abstraction and on platform details in the implementation.\n",
    "\n",
    "__Cons:__\n",
    "- You might make the code more complicated by applying the pattern to a highly cohesive class"
   ]
  },
  {
   "cell_type": "markdown",
   "metadata": {},
   "source": [
    "### 1. Everyday life examples"
   ]
  },
  {
   "cell_type": "code",
   "execution_count": null,
   "metadata": {
    "scrolled": true
   },
   "outputs": [],
   "source": [
    "Image(url= \"img/bridge_need_example.png\", width=500, height=500)"
   ]
  },
  {
   "cell_type": "markdown",
   "metadata": {},
   "source": [
    "You want to be able to create __yellow triangles__. What do you do ? "
   ]
  },
  {
   "cell_type": "markdown",
   "metadata": {},
   "source": [
    "### 2. Structure"
   ]
  },
  {
   "cell_type": "code",
   "execution_count": null,
   "metadata": {},
   "outputs": [],
   "source": [
    "Image(url= \"img/Bridge_structure.png\", width=900, height=900)"
   ]
  },
  {
   "cell_type": "markdown",
   "metadata": {},
   "source": [
    "### 3. Examples"
   ]
  },
  {
   "cell_type": "markdown",
   "metadata": {},
   "source": [
    "Task: Can you use the Bridge pattern in order to split the two dimensions shape and coolor in respective classes ? "
   ]
  }
 ],
 "metadata": {
  "kernelspec": {
   "display_name": "Python 3",
   "language": "python",
   "name": "python3"
  },
  "language_info": {
   "codemirror_mode": {
    "name": "ipython",
    "version": 3
   },
   "file_extension": ".py",
   "mimetype": "text/x-python",
   "name": "python",
   "nbconvert_exporter": "python",
   "pygments_lexer": "ipython3",
   "version": "3.7.8"
  }
 },
 "nbformat": 4,
 "nbformat_minor": 4
}
