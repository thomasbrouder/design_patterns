{
 "cells": [
  {
   "cell_type": "markdown",
   "metadata": {
    "pycharm": {
     "name": "#%%\n"
    }
   },
   "source": [
    "# Design patterns"
   ]
  },
  {
   "cell_type": "markdown",
   "metadata": {},
   "source": [
    "## I- The Adapter"
   ]
  },
  {
   "cell_type": "markdown",
   "metadata": {
    "pycharm": {
     "name": "#%% md\n"
    }
   },
   "source": [
    "### 1. Everyday life examples"
   ]
  },
  {
   "cell_type": "code",
   "execution_count": 1,
   "metadata": {},
   "outputs": [],
   "source": [
    "from IPython.display import Image\n",
    "from IPython.core.display import HTML\n",
    "Image(url= \"img/car_to_rail_adapter.png\", width=500, height=500)"
   ]
  },
  {
   "cell_type": "code",
   "execution_count": 2,
   "metadata": {
    "scrolled": true
   },
   "outputs": [],
   "source": [
    "Image(url= \"img/plug_adapter.png\", width=300, height=300)"
   ]
  },
  {
   "cell_type": "markdown",
   "metadata": {},
   "source": [
    "### 2. Theory"
   ]
  },
  {
   "cell_type": "markdown",
   "metadata": {},
   "source": [
    "### 3. Implementation"
   ]
  },
  {
   "cell_type": "markdown",
   "metadata": {},
   "source": [
    "#### a) Context"
   ]
  },
  {
   "cell_type": "code",
   "execution_count": 3,
   "metadata": {
    "pycharm": {
     "name": "#%%\n"
    }
   },
   "outputs": [
    {
     "name": "stdout",
     "output_type": "stream",
     "text": [
      "Service works fine with client code\n"
     ]
    }
   ],
   "source": [
    "class Service():\n",
    "    \"\"\"\n",
    "    Service class is compatible with client code\n",
    "    \"\"\"\n",
    "    def name(self):\n",
    "        return \"usual service\"\n",
    "    \n",
    "    def request(self):\n",
    "        return \"Service works fine with client code\"\n",
    "\n",
    "def client_code(service: \"Service\") -> None:\n",
    "    print(service.request())\n",
    "\n",
    "usual_service = Service()\n",
    "client_code(usual_service)"
   ]
  },
  {
   "cell_type": "code",
   "execution_count": 4,
   "metadata": {
    "pycharm": {
     "name": "#%%\n"
    }
   },
   "outputs": [
    {
     "ename": "AttributeError",
     "evalue": "'NewService' object has no attribute 'request'",
     "output_type": "error",
     "traceback": [
      "\u001b[1;31m---------------------------------------------------------------------------\u001b[0m",
      "\u001b[1;31mAttributeError\u001b[0m                            Traceback (most recent call last)",
      "\u001b[1;32m<ipython-input-4-de780ce15e1c>\u001b[0m in \u001b[0;36m<module>\u001b[1;34m\u001b[0m\n\u001b[0;32m     11\u001b[0m \u001b[1;33m\u001b[0m\u001b[0m\n\u001b[0;32m     12\u001b[0m \u001b[0mnew_service\u001b[0m \u001b[1;33m=\u001b[0m \u001b[0mNewService\u001b[0m\u001b[1;33m(\u001b[0m\u001b[1;33m)\u001b[0m\u001b[1;33m\u001b[0m\u001b[1;33m\u001b[0m\u001b[0m\n\u001b[1;32m---> 13\u001b[1;33m \u001b[0mclient_code\u001b[0m\u001b[1;33m(\u001b[0m\u001b[0mnew_service\u001b[0m\u001b[1;33m)\u001b[0m\u001b[1;33m\u001b[0m\u001b[1;33m\u001b[0m\u001b[0m\n\u001b[0m",
      "\u001b[1;32m<ipython-input-3-c5022bcb6ee8>\u001b[0m in \u001b[0;36mclient_code\u001b[1;34m(service)\u001b[0m\n\u001b[0;32m     10\u001b[0m \u001b[1;33m\u001b[0m\u001b[0m\n\u001b[0;32m     11\u001b[0m \u001b[1;32mdef\u001b[0m \u001b[0mclient_code\u001b[0m\u001b[1;33m(\u001b[0m\u001b[0mservice\u001b[0m\u001b[1;33m:\u001b[0m \u001b[1;34m\"Service\"\u001b[0m\u001b[1;33m)\u001b[0m \u001b[1;33m->\u001b[0m \u001b[1;32mNone\u001b[0m\u001b[1;33m:\u001b[0m\u001b[1;33m\u001b[0m\u001b[1;33m\u001b[0m\u001b[0m\n\u001b[1;32m---> 12\u001b[1;33m     \u001b[0mprint\u001b[0m\u001b[1;33m(\u001b[0m\u001b[0mservice\u001b[0m\u001b[1;33m.\u001b[0m\u001b[0mrequest\u001b[0m\u001b[1;33m(\u001b[0m\u001b[1;33m)\u001b[0m\u001b[1;33m)\u001b[0m\u001b[1;33m\u001b[0m\u001b[1;33m\u001b[0m\u001b[0m\n\u001b[0m\u001b[0;32m     13\u001b[0m \u001b[1;33m\u001b[0m\u001b[0m\n\u001b[0;32m     14\u001b[0m \u001b[0musual_service\u001b[0m \u001b[1;33m=\u001b[0m \u001b[0mService\u001b[0m\u001b[1;33m(\u001b[0m\u001b[1;33m)\u001b[0m\u001b[1;33m\u001b[0m\u001b[1;33m\u001b[0m\u001b[0m\n",
      "\u001b[1;31mAttributeError\u001b[0m: 'NewService' object has no attribute 'request'"
     ]
    }
   ],
   "source": [
    "class NewService():\n",
    "    \"\"\"\n",
    "    We would like NewService instance to be compatible with client code.\n",
    "    But its behavior is not compatible.\n",
    "    \"\"\"\n",
    "    def name(self):\n",
    "        return \"new service\"\n",
    "    \n",
    "    def specific_request(self):\n",
    "        return \"!oot edoc tneilc htiw enif skrow ecivres wen eht woN\"\n",
    "\n",
    "new_service = NewService()\n",
    "client_code(new_service)"
   ]
  },
  {
   "cell_type": "markdown",
   "metadata": {},
   "source": [
    "#### b) Practice"
   ]
  },
  {
   "cell_type": "code",
   "execution_count": 5,
   "metadata": {
    "pycharm": {
     "name": "#%%\n"
    }
   },
   "outputs": [
    {
     "name": "stdout",
     "output_type": "stream",
     "text": [
      "\u001b[1mTask: \u001b[0m Create an Adapter class which allows NewService instance to be compatible with client code.\n",
      "\u001b[1mGoal: \u001b[0m Montrer que l'on peut faire de l'héritage multiple en Python Montrer qu'il faut que le nouveau service implémente l'interface de l'ancien service\n",
      "\n",
      "    class Adapter(NewService):\n",
      "        '''\n",
      "        Adapter allows NewService instance to be compatible with client code.\n",
      "        The client is now compatible with NewService instance through the Adapter.\n",
      "        Adapter changes NewService interface so that it is understandable by client code.\n",
      "        Adapter makes as if it was an Service instance.\n",
      "        '''\n",
      "        def request(self):\n",
      "            new_service_req = self.specific_request()\n",
      "            return new_service_req[::-1]\n",
      "    adapter = Adapter()\n",
      "    client_code(adapter)\n",
      "    \n"
     ]
    }
   ],
   "source": [
    "from solutions import solution\n",
    "print(solution.exercise_1.task())\n",
    "print(solution.exercise_1.goal())\n",
    "print(solution.exercise_1.solution())"
   ]
  },
  {
   "cell_type": "markdown",
   "metadata": {},
   "source": [
    "Objectif: Montrer que l'on peut faire de l'héritage multiple en Python\n",
    "Montrer qu'il faut que le nouveau service implémente l'interface de l'ancien service"
   ]
  },
  {
   "cell_type": "code",
   "execution_count": null,
   "metadata": {
    "pycharm": {
     "name": "#%%\n"
    }
   },
   "outputs": [],
   "source": [
    "def client_code(service: \"Service\") -> None:\n",
    "    print(service.request())\n",
    "\n",
    "    if isinstance(service, Service):\n",
    "        print(f\"{service.name()} is of type Service\")\n",
    "    else:\n",
    "        print(f\"But wait, {service.name()} makes as if it were of type Service, but it's not! It's of type {type(service)}\")\n",
    "    print(\"\\n\")"
   ]
  },
  {
   "cell_type": "code",
   "execution_count": null,
   "metadata": {},
   "outputs": [],
   "source": [
    "from solutions import solution\n",
    "print(solution.exercise_2.task())\n",
    "print(solution.exercise_2.goal())\n",
    "print(solution.exercise_2.solution())"
   ]
  }
 ],
 "metadata": {
  "kernelspec": {
   "display_name": "Python 3",
   "language": "python",
   "name": "python3"
  },
  "language_info": {
   "codemirror_mode": {
    "name": "ipython",
    "version": 3
   },
   "file_extension": ".py",
   "mimetype": "text/x-python",
   "name": "python",
   "nbconvert_exporter": "python",
   "pygments_lexer": "ipython3",
   "version": "3.7.8"
  }
 },
 "nbformat": 4,
 "nbformat_minor": 4
}
